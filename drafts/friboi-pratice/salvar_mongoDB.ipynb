{
 "cells": [
  {
   "cell_type": "code",
   "execution_count": 4,
   "metadata": {},
   "outputs": [],
   "source": [
    "from pymongo import MongoClient\n",
    "import pandas as pd"
   ]
  },
  {
   "cell_type": "code",
   "execution_count": null,
   "metadata": {},
   "outputs": [],
   "source": [
    "client = MongoClient(\"mongodb://localhost:27017/\")\n",
    "db = client[\"friboi_pratica\"]\n",
    "collection = db[\"receitas_pratica\"]"
   ]
  },
  {
   "cell_type": "code",
   "execution_count": 6,
   "metadata": {},
   "outputs": [
    {
     "data": {
      "text/html": [
       "<div>\n",
       "<style scoped>\n",
       "    .dataframe tbody tr th:only-of-type {\n",
       "        vertical-align: middle;\n",
       "    }\n",
       "\n",
       "    .dataframe tbody tr th {\n",
       "        vertical-align: top;\n",
       "    }\n",
       "\n",
       "    .dataframe thead th {\n",
       "        text-align: right;\n",
       "    }\n",
       "</style>\n",
       "<table border=\"1\" class=\"dataframe\">\n",
       "  <thead>\n",
       "    <tr style=\"text-align: right;\">\n",
       "      <th></th>\n",
       "      <th>Título</th>\n",
       "      <th>Introdução</th>\n",
       "      <th>Ingredientes</th>\n",
       "      <th>Modo de preparo</th>\n",
       "      <th>Marca</th>\n",
       "      <th>Corte</th>\n",
       "      <th>Tipo</th>\n",
       "    </tr>\n",
       "  </thead>\n",
       "  <tbody>\n",
       "    <tr>\n",
       "      <th>417</th>\n",
       "      <td>Espetinhos de paleta</td>\n",
       "      <td>NaN</td>\n",
       "      <td>CarneMolho</td>\n",
       "      <td>Em uma tigela, colocar a carne e os legumes, t...</td>\n",
       "      <td>NaN</td>\n",
       "      <td>Espetinho, Paleta</td>\n",
       "      <td>Receita</td>\n",
       "    </tr>\n",
       "    <tr>\n",
       "      <th>418</th>\n",
       "      <td>Creme de inhame com músculo e pinhão</td>\n",
       "      <td>NaN</td>\n",
       "      <td>NaN</td>\n",
       "      <td>Carne\\nEm uma panela de pressão coloque metade...</td>\n",
       "      <td>NaN</td>\n",
       "      <td>NaN</td>\n",
       "      <td>Dica</td>\n",
       "    </tr>\n",
       "    <tr>\n",
       "      <th>419</th>\n",
       "      <td>Alcatra ao vinho com ervilha torta</td>\n",
       "      <td>NaN</td>\n",
       "      <td>NaN</td>\n",
       "      <td>Temperar a carne com sal, pimenta do reino, o ...</td>\n",
       "      <td>NaN</td>\n",
       "      <td>Alcatra</td>\n",
       "      <td>Dica</td>\n",
       "    </tr>\n",
       "    <tr>\n",
       "      <th>420</th>\n",
       "      <td>Coxão mole campestre com farofa e calda de maçã</td>\n",
       "      <td>NaN</td>\n",
       "      <td>CarneFarofaCalda de maçã</td>\n",
       "      <td>Farofa\\nEm uma frigideira grande, aqueça a mar...</td>\n",
       "      <td>NaN</td>\n",
       "      <td>Coxão Mole</td>\n",
       "      <td>Receita</td>\n",
       "    </tr>\n",
       "    <tr>\n",
       "      <th>421</th>\n",
       "      <td>Contrafilé com patê de azeitonas pretas</td>\n",
       "      <td>NaN</td>\n",
       "      <td>CarnePatê de azeitonas</td>\n",
       "      <td>Patê\\nEm uma cumbuca misturar o creme de leite...</td>\n",
       "      <td>NaN</td>\n",
       "      <td>Contrafilé</td>\n",
       "      <td>Receita</td>\n",
       "    </tr>\n",
       "  </tbody>\n",
       "</table>\n",
       "</div>"
      ],
      "text/plain": [
       "                                              Título Introdução  \\\n",
       "417                             Espetinhos de paleta        NaN   \n",
       "418             Creme de inhame com músculo e pinhão        NaN   \n",
       "419               Alcatra ao vinho com ervilha torta        NaN   \n",
       "420  Coxão mole campestre com farofa e calda de maçã        NaN   \n",
       "421          Contrafilé com patê de azeitonas pretas        NaN   \n",
       "\n",
       "                 Ingredientes  \\\n",
       "417                CarneMolho   \n",
       "418                       NaN   \n",
       "419                       NaN   \n",
       "420  CarneFarofaCalda de maçã   \n",
       "421    CarnePatê de azeitonas   \n",
       "\n",
       "                                       Modo de preparo Marca  \\\n",
       "417  Em uma tigela, colocar a carne e os legumes, t...   NaN   \n",
       "418  Carne\\nEm uma panela de pressão coloque metade...   NaN   \n",
       "419  Temperar a carne com sal, pimenta do reino, o ...   NaN   \n",
       "420  Farofa\\nEm uma frigideira grande, aqueça a mar...   NaN   \n",
       "421  Patê\\nEm uma cumbuca misturar o creme de leite...   NaN   \n",
       "\n",
       "                 Corte     Tipo  \n",
       "417  Espetinho, Paleta  Receita  \n",
       "418                NaN     Dica  \n",
       "419            Alcatra     Dica  \n",
       "420         Coxão Mole  Receita  \n",
       "421         Contrafilé  Receita  "
      ]
     },
     "execution_count": 6,
     "metadata": {},
     "output_type": "execute_result"
    }
   ],
   "source": [
    "df = pd.read_csv(\"receitas-e-dicas-friboi.csv\", sep=\";\", encoding=\"utf-8\")\n",
    "df.tail()"
   ]
  },
  {
   "cell_type": "code",
   "execution_count": 7,
   "metadata": {},
   "outputs": [],
   "source": [
    "df = df.fillna(\"\")\n",
    "documentos = df.astype(str).to_dict(orient=\"records\")"
   ]
  },
  {
   "cell_type": "code",
   "execution_count": 8,
   "metadata": {},
   "outputs": [
    {
     "data": {
      "text/plain": [
       "InsertManyResult([ObjectId('68fa1f133747bec2cbd18dc5'), ObjectId('68fa1f133747bec2cbd18dc6'), ObjectId('68fa1f133747bec2cbd18dc7'), ObjectId('68fa1f133747bec2cbd18dc8'), ObjectId('68fa1f133747bec2cbd18dc9'), ObjectId('68fa1f133747bec2cbd18dca'), ObjectId('68fa1f133747bec2cbd18dcb'), ObjectId('68fa1f133747bec2cbd18dcc'), ObjectId('68fa1f133747bec2cbd18dcd'), ObjectId('68fa1f133747bec2cbd18dce'), ObjectId('68fa1f133747bec2cbd18dcf'), ObjectId('68fa1f133747bec2cbd18dd0'), ObjectId('68fa1f133747bec2cbd18dd1'), ObjectId('68fa1f133747bec2cbd18dd2'), ObjectId('68fa1f133747bec2cbd18dd3'), ObjectId('68fa1f133747bec2cbd18dd4'), ObjectId('68fa1f133747bec2cbd18dd5'), ObjectId('68fa1f133747bec2cbd18dd6'), ObjectId('68fa1f133747bec2cbd18dd7'), ObjectId('68fa1f133747bec2cbd18dd8'), ObjectId('68fa1f133747bec2cbd18dd9'), ObjectId('68fa1f133747bec2cbd18dda'), ObjectId('68fa1f133747bec2cbd18ddb'), ObjectId('68fa1f133747bec2cbd18ddc'), ObjectId('68fa1f133747bec2cbd18ddd'), ObjectId('68fa1f133747bec2cbd18dde'), ObjectId('68fa1f133747bec2cbd18ddf'), ObjectId('68fa1f133747bec2cbd18de0'), ObjectId('68fa1f133747bec2cbd18de1'), ObjectId('68fa1f133747bec2cbd18de2'), ObjectId('68fa1f133747bec2cbd18de3'), ObjectId('68fa1f133747bec2cbd18de4'), ObjectId('68fa1f133747bec2cbd18de5'), ObjectId('68fa1f133747bec2cbd18de6'), ObjectId('68fa1f133747bec2cbd18de7'), ObjectId('68fa1f133747bec2cbd18de8'), ObjectId('68fa1f133747bec2cbd18de9'), ObjectId('68fa1f133747bec2cbd18dea'), ObjectId('68fa1f133747bec2cbd18deb'), ObjectId('68fa1f133747bec2cbd18dec'), ObjectId('68fa1f133747bec2cbd18ded'), ObjectId('68fa1f133747bec2cbd18dee'), ObjectId('68fa1f133747bec2cbd18def'), ObjectId('68fa1f133747bec2cbd18df0'), ObjectId('68fa1f133747bec2cbd18df1'), ObjectId('68fa1f133747bec2cbd18df2'), ObjectId('68fa1f133747bec2cbd18df3'), ObjectId('68fa1f133747bec2cbd18df4'), ObjectId('68fa1f133747bec2cbd18df5'), ObjectId('68fa1f133747bec2cbd18df6'), ObjectId('68fa1f133747bec2cbd18df7'), ObjectId('68fa1f133747bec2cbd18df8'), ObjectId('68fa1f133747bec2cbd18df9'), ObjectId('68fa1f133747bec2cbd18dfa'), ObjectId('68fa1f133747bec2cbd18dfb'), ObjectId('68fa1f133747bec2cbd18dfc'), ObjectId('68fa1f133747bec2cbd18dfd'), ObjectId('68fa1f133747bec2cbd18dfe'), ObjectId('68fa1f133747bec2cbd18dff'), ObjectId('68fa1f133747bec2cbd18e00'), ObjectId('68fa1f133747bec2cbd18e01'), ObjectId('68fa1f133747bec2cbd18e02'), ObjectId('68fa1f133747bec2cbd18e03'), ObjectId('68fa1f133747bec2cbd18e04'), ObjectId('68fa1f133747bec2cbd18e05'), ObjectId('68fa1f133747bec2cbd18e06'), ObjectId('68fa1f133747bec2cbd18e07'), ObjectId('68fa1f133747bec2cbd18e08'), ObjectId('68fa1f133747bec2cbd18e09'), ObjectId('68fa1f133747bec2cbd18e0a'), ObjectId('68fa1f133747bec2cbd18e0b'), ObjectId('68fa1f133747bec2cbd18e0c'), ObjectId('68fa1f133747bec2cbd18e0d'), ObjectId('68fa1f133747bec2cbd18e0e'), ObjectId('68fa1f133747bec2cbd18e0f'), ObjectId('68fa1f133747bec2cbd18e10'), ObjectId('68fa1f133747bec2cbd18e11'), ObjectId('68fa1f133747bec2cbd18e12'), ObjectId('68fa1f133747bec2cbd18e13'), ObjectId('68fa1f133747bec2cbd18e14'), ObjectId('68fa1f133747bec2cbd18e15'), ObjectId('68fa1f133747bec2cbd18e16'), ObjectId('68fa1f133747bec2cbd18e17'), ObjectId('68fa1f133747bec2cbd18e18'), ObjectId('68fa1f133747bec2cbd18e19'), ObjectId('68fa1f133747bec2cbd18e1a'), ObjectId('68fa1f133747bec2cbd18e1b'), ObjectId('68fa1f133747bec2cbd18e1c'), ObjectId('68fa1f133747bec2cbd18e1d'), ObjectId('68fa1f133747bec2cbd18e1e'), ObjectId('68fa1f133747bec2cbd18e1f'), ObjectId('68fa1f133747bec2cbd18e20'), ObjectId('68fa1f133747bec2cbd18e21'), ObjectId('68fa1f133747bec2cbd18e22'), ObjectId('68fa1f133747bec2cbd18e23'), ObjectId('68fa1f133747bec2cbd18e24'), ObjectId('68fa1f133747bec2cbd18e25'), ObjectId('68fa1f133747bec2cbd18e26'), ObjectId('68fa1f133747bec2cbd18e27'), ObjectId('68fa1f133747bec2cbd18e28'), ObjectId('68fa1f133747bec2cbd18e29'), ObjectId('68fa1f133747bec2cbd18e2a'), ObjectId('68fa1f133747bec2cbd18e2b'), ObjectId('68fa1f133747bec2cbd18e2c'), ObjectId('68fa1f133747bec2cbd18e2d'), ObjectId('68fa1f133747bec2cbd18e2e'), ObjectId('68fa1f133747bec2cbd18e2f'), ObjectId('68fa1f133747bec2cbd18e30'), ObjectId('68fa1f133747bec2cbd18e31'), ObjectId('68fa1f133747bec2cbd18e32'), ObjectId('68fa1f133747bec2cbd18e33'), ObjectId('68fa1f133747bec2cbd18e34'), ObjectId('68fa1f133747bec2cbd18e35'), ObjectId('68fa1f133747bec2cbd18e36'), ObjectId('68fa1f133747bec2cbd18e37'), ObjectId('68fa1f133747bec2cbd18e38'), ObjectId('68fa1f133747bec2cbd18e39'), ObjectId('68fa1f133747bec2cbd18e3a'), ObjectId('68fa1f133747bec2cbd18e3b'), ObjectId('68fa1f133747bec2cbd18e3c'), ObjectId('68fa1f133747bec2cbd18e3d'), ObjectId('68fa1f133747bec2cbd18e3e'), ObjectId('68fa1f133747bec2cbd18e3f'), ObjectId('68fa1f133747bec2cbd18e40'), ObjectId('68fa1f133747bec2cbd18e41'), ObjectId('68fa1f133747bec2cbd18e42'), ObjectId('68fa1f133747bec2cbd18e43'), ObjectId('68fa1f133747bec2cbd18e44'), ObjectId('68fa1f133747bec2cbd18e45'), ObjectId('68fa1f133747bec2cbd18e46'), ObjectId('68fa1f133747bec2cbd18e47'), ObjectId('68fa1f133747bec2cbd18e48'), ObjectId('68fa1f133747bec2cbd18e49'), ObjectId('68fa1f133747bec2cbd18e4a'), ObjectId('68fa1f133747bec2cbd18e4b'), ObjectId('68fa1f133747bec2cbd18e4c'), ObjectId('68fa1f133747bec2cbd18e4d'), ObjectId('68fa1f133747bec2cbd18e4e'), ObjectId('68fa1f133747bec2cbd18e4f'), ObjectId('68fa1f133747bec2cbd18e50'), ObjectId('68fa1f133747bec2cbd18e51'), ObjectId('68fa1f133747bec2cbd18e52'), ObjectId('68fa1f133747bec2cbd18e53'), ObjectId('68fa1f133747bec2cbd18e54'), ObjectId('68fa1f133747bec2cbd18e55'), ObjectId('68fa1f133747bec2cbd18e56'), ObjectId('68fa1f133747bec2cbd18e57'), ObjectId('68fa1f133747bec2cbd18e58'), ObjectId('68fa1f133747bec2cbd18e59'), ObjectId('68fa1f133747bec2cbd18e5a'), ObjectId('68fa1f133747bec2cbd18e5b'), ObjectId('68fa1f133747bec2cbd18e5c'), ObjectId('68fa1f133747bec2cbd18e5d'), ObjectId('68fa1f133747bec2cbd18e5e'), ObjectId('68fa1f133747bec2cbd18e5f'), ObjectId('68fa1f133747bec2cbd18e60'), ObjectId('68fa1f133747bec2cbd18e61'), ObjectId('68fa1f133747bec2cbd18e62'), ObjectId('68fa1f133747bec2cbd18e63'), ObjectId('68fa1f133747bec2cbd18e64'), ObjectId('68fa1f133747bec2cbd18e65'), ObjectId('68fa1f133747bec2cbd18e66'), ObjectId('68fa1f133747bec2cbd18e67'), ObjectId('68fa1f133747bec2cbd18e68'), ObjectId('68fa1f133747bec2cbd18e69'), ObjectId('68fa1f133747bec2cbd18e6a'), ObjectId('68fa1f133747bec2cbd18e6b'), ObjectId('68fa1f133747bec2cbd18e6c'), ObjectId('68fa1f133747bec2cbd18e6d'), ObjectId('68fa1f133747bec2cbd18e6e'), ObjectId('68fa1f133747bec2cbd18e6f'), ObjectId('68fa1f133747bec2cbd18e70'), ObjectId('68fa1f133747bec2cbd18e71'), ObjectId('68fa1f133747bec2cbd18e72'), ObjectId('68fa1f133747bec2cbd18e73'), ObjectId('68fa1f133747bec2cbd18e74'), ObjectId('68fa1f133747bec2cbd18e75'), ObjectId('68fa1f133747bec2cbd18e76'), ObjectId('68fa1f133747bec2cbd18e77'), ObjectId('68fa1f133747bec2cbd18e78'), ObjectId('68fa1f133747bec2cbd18e79'), ObjectId('68fa1f133747bec2cbd18e7a'), ObjectId('68fa1f133747bec2cbd18e7b'), ObjectId('68fa1f133747bec2cbd18e7c'), ObjectId('68fa1f133747bec2cbd18e7d'), ObjectId('68fa1f133747bec2cbd18e7e'), ObjectId('68fa1f133747bec2cbd18e7f'), ObjectId('68fa1f133747bec2cbd18e80'), ObjectId('68fa1f133747bec2cbd18e81'), ObjectId('68fa1f133747bec2cbd18e82'), ObjectId('68fa1f133747bec2cbd18e83'), ObjectId('68fa1f133747bec2cbd18e84'), ObjectId('68fa1f133747bec2cbd18e85'), ObjectId('68fa1f133747bec2cbd18e86'), ObjectId('68fa1f133747bec2cbd18e87'), ObjectId('68fa1f133747bec2cbd18e88'), ObjectId('68fa1f133747bec2cbd18e89'), ObjectId('68fa1f133747bec2cbd18e8a'), ObjectId('68fa1f133747bec2cbd18e8b'), ObjectId('68fa1f133747bec2cbd18e8c'), ObjectId('68fa1f133747bec2cbd18e8d'), ObjectId('68fa1f133747bec2cbd18e8e'), ObjectId('68fa1f133747bec2cbd18e8f'), ObjectId('68fa1f133747bec2cbd18e90'), ObjectId('68fa1f133747bec2cbd18e91'), ObjectId('68fa1f133747bec2cbd18e92'), ObjectId('68fa1f133747bec2cbd18e93'), ObjectId('68fa1f133747bec2cbd18e94'), ObjectId('68fa1f133747bec2cbd18e95'), ObjectId('68fa1f133747bec2cbd18e96'), ObjectId('68fa1f133747bec2cbd18e97'), ObjectId('68fa1f133747bec2cbd18e98'), ObjectId('68fa1f133747bec2cbd18e99'), ObjectId('68fa1f133747bec2cbd18e9a'), ObjectId('68fa1f133747bec2cbd18e9b'), ObjectId('68fa1f133747bec2cbd18e9c'), ObjectId('68fa1f133747bec2cbd18e9d'), ObjectId('68fa1f133747bec2cbd18e9e'), ObjectId('68fa1f133747bec2cbd18e9f'), ObjectId('68fa1f133747bec2cbd18ea0'), ObjectId('68fa1f133747bec2cbd18ea1'), ObjectId('68fa1f133747bec2cbd18ea2'), ObjectId('68fa1f133747bec2cbd18ea3'), ObjectId('68fa1f133747bec2cbd18ea4'), ObjectId('68fa1f133747bec2cbd18ea5'), ObjectId('68fa1f133747bec2cbd18ea6'), ObjectId('68fa1f133747bec2cbd18ea7'), ObjectId('68fa1f133747bec2cbd18ea8'), ObjectId('68fa1f133747bec2cbd18ea9'), ObjectId('68fa1f133747bec2cbd18eaa'), ObjectId('68fa1f133747bec2cbd18eab'), ObjectId('68fa1f133747bec2cbd18eac'), ObjectId('68fa1f133747bec2cbd18ead'), ObjectId('68fa1f133747bec2cbd18eae'), ObjectId('68fa1f133747bec2cbd18eaf'), ObjectId('68fa1f133747bec2cbd18eb0'), ObjectId('68fa1f133747bec2cbd18eb1'), ObjectId('68fa1f133747bec2cbd18eb2'), ObjectId('68fa1f133747bec2cbd18eb3'), ObjectId('68fa1f133747bec2cbd18eb4'), ObjectId('68fa1f133747bec2cbd18eb5'), ObjectId('68fa1f133747bec2cbd18eb6'), ObjectId('68fa1f133747bec2cbd18eb7'), ObjectId('68fa1f133747bec2cbd18eb8'), ObjectId('68fa1f133747bec2cbd18eb9'), ObjectId('68fa1f133747bec2cbd18eba'), ObjectId('68fa1f133747bec2cbd18ebb'), ObjectId('68fa1f133747bec2cbd18ebc'), ObjectId('68fa1f133747bec2cbd18ebd'), ObjectId('68fa1f133747bec2cbd18ebe'), ObjectId('68fa1f133747bec2cbd18ebf'), ObjectId('68fa1f133747bec2cbd18ec0'), ObjectId('68fa1f133747bec2cbd18ec1'), ObjectId('68fa1f133747bec2cbd18ec2'), ObjectId('68fa1f133747bec2cbd18ec3'), ObjectId('68fa1f133747bec2cbd18ec4'), ObjectId('68fa1f133747bec2cbd18ec5'), ObjectId('68fa1f133747bec2cbd18ec6'), ObjectId('68fa1f133747bec2cbd18ec7'), ObjectId('68fa1f133747bec2cbd18ec8'), ObjectId('68fa1f133747bec2cbd18ec9'), ObjectId('68fa1f133747bec2cbd18eca'), ObjectId('68fa1f133747bec2cbd18ecb'), ObjectId('68fa1f133747bec2cbd18ecc'), ObjectId('68fa1f133747bec2cbd18ecd'), ObjectId('68fa1f133747bec2cbd18ece'), ObjectId('68fa1f133747bec2cbd18ecf'), ObjectId('68fa1f133747bec2cbd18ed0'), ObjectId('68fa1f133747bec2cbd18ed1'), ObjectId('68fa1f133747bec2cbd18ed2'), ObjectId('68fa1f133747bec2cbd18ed3'), ObjectId('68fa1f133747bec2cbd18ed4'), ObjectId('68fa1f133747bec2cbd18ed5'), ObjectId('68fa1f133747bec2cbd18ed6'), ObjectId('68fa1f133747bec2cbd18ed7'), ObjectId('68fa1f133747bec2cbd18ed8'), ObjectId('68fa1f133747bec2cbd18ed9'), ObjectId('68fa1f133747bec2cbd18eda'), ObjectId('68fa1f133747bec2cbd18edb'), ObjectId('68fa1f133747bec2cbd18edc'), ObjectId('68fa1f133747bec2cbd18edd'), ObjectId('68fa1f133747bec2cbd18ede'), ObjectId('68fa1f133747bec2cbd18edf'), ObjectId('68fa1f133747bec2cbd18ee0'), ObjectId('68fa1f133747bec2cbd18ee1'), ObjectId('68fa1f133747bec2cbd18ee2'), ObjectId('68fa1f133747bec2cbd18ee3'), ObjectId('68fa1f133747bec2cbd18ee4'), ObjectId('68fa1f133747bec2cbd18ee5'), ObjectId('68fa1f133747bec2cbd18ee6'), ObjectId('68fa1f133747bec2cbd18ee7'), ObjectId('68fa1f133747bec2cbd18ee8'), ObjectId('68fa1f133747bec2cbd18ee9'), ObjectId('68fa1f133747bec2cbd18eea'), ObjectId('68fa1f133747bec2cbd18eeb'), ObjectId('68fa1f133747bec2cbd18eec'), ObjectId('68fa1f133747bec2cbd18eed'), ObjectId('68fa1f133747bec2cbd18eee'), ObjectId('68fa1f133747bec2cbd18eef'), ObjectId('68fa1f133747bec2cbd18ef0'), ObjectId('68fa1f133747bec2cbd18ef1'), ObjectId('68fa1f133747bec2cbd18ef2'), ObjectId('68fa1f133747bec2cbd18ef3'), ObjectId('68fa1f133747bec2cbd18ef4'), ObjectId('68fa1f133747bec2cbd18ef5'), ObjectId('68fa1f133747bec2cbd18ef6'), ObjectId('68fa1f133747bec2cbd18ef7'), ObjectId('68fa1f133747bec2cbd18ef8'), ObjectId('68fa1f133747bec2cbd18ef9'), ObjectId('68fa1f133747bec2cbd18efa'), ObjectId('68fa1f133747bec2cbd18efb'), ObjectId('68fa1f133747bec2cbd18efc'), ObjectId('68fa1f133747bec2cbd18efd'), ObjectId('68fa1f133747bec2cbd18efe'), ObjectId('68fa1f133747bec2cbd18eff'), ObjectId('68fa1f133747bec2cbd18f00'), ObjectId('68fa1f133747bec2cbd18f01'), ObjectId('68fa1f133747bec2cbd18f02'), ObjectId('68fa1f133747bec2cbd18f03'), ObjectId('68fa1f133747bec2cbd18f04'), ObjectId('68fa1f133747bec2cbd18f05'), ObjectId('68fa1f133747bec2cbd18f06'), ObjectId('68fa1f133747bec2cbd18f07'), ObjectId('68fa1f133747bec2cbd18f08'), ObjectId('68fa1f133747bec2cbd18f09'), ObjectId('68fa1f133747bec2cbd18f0a'), ObjectId('68fa1f133747bec2cbd18f0b'), ObjectId('68fa1f133747bec2cbd18f0c'), ObjectId('68fa1f133747bec2cbd18f0d'), ObjectId('68fa1f133747bec2cbd18f0e'), ObjectId('68fa1f133747bec2cbd18f0f'), ObjectId('68fa1f133747bec2cbd18f10'), ObjectId('68fa1f133747bec2cbd18f11'), ObjectId('68fa1f133747bec2cbd18f12'), ObjectId('68fa1f133747bec2cbd18f13'), ObjectId('68fa1f133747bec2cbd18f14'), ObjectId('68fa1f133747bec2cbd18f15'), ObjectId('68fa1f133747bec2cbd18f16'), ObjectId('68fa1f133747bec2cbd18f17'), ObjectId('68fa1f133747bec2cbd18f18'), ObjectId('68fa1f133747bec2cbd18f19'), ObjectId('68fa1f133747bec2cbd18f1a'), ObjectId('68fa1f133747bec2cbd18f1b'), ObjectId('68fa1f133747bec2cbd18f1c'), ObjectId('68fa1f133747bec2cbd18f1d'), ObjectId('68fa1f133747bec2cbd18f1e'), ObjectId('68fa1f133747bec2cbd18f1f'), ObjectId('68fa1f133747bec2cbd18f20'), ObjectId('68fa1f133747bec2cbd18f21'), ObjectId('68fa1f133747bec2cbd18f22'), ObjectId('68fa1f133747bec2cbd18f23'), ObjectId('68fa1f133747bec2cbd18f24'), ObjectId('68fa1f133747bec2cbd18f25'), ObjectId('68fa1f133747bec2cbd18f26'), ObjectId('68fa1f133747bec2cbd18f27'), ObjectId('68fa1f133747bec2cbd18f28'), ObjectId('68fa1f133747bec2cbd18f29'), ObjectId('68fa1f133747bec2cbd18f2a'), ObjectId('68fa1f133747bec2cbd18f2b'), ObjectId('68fa1f133747bec2cbd18f2c'), ObjectId('68fa1f133747bec2cbd18f2d'), ObjectId('68fa1f133747bec2cbd18f2e'), ObjectId('68fa1f133747bec2cbd18f2f'), ObjectId('68fa1f133747bec2cbd18f30'), ObjectId('68fa1f133747bec2cbd18f31'), ObjectId('68fa1f133747bec2cbd18f32'), ObjectId('68fa1f133747bec2cbd18f33'), ObjectId('68fa1f133747bec2cbd18f34'), ObjectId('68fa1f133747bec2cbd18f35'), ObjectId('68fa1f133747bec2cbd18f36'), ObjectId('68fa1f133747bec2cbd18f37'), ObjectId('68fa1f133747bec2cbd18f38'), ObjectId('68fa1f133747bec2cbd18f39'), ObjectId('68fa1f133747bec2cbd18f3a'), ObjectId('68fa1f133747bec2cbd18f3b'), ObjectId('68fa1f133747bec2cbd18f3c'), ObjectId('68fa1f133747bec2cbd18f3d'), ObjectId('68fa1f133747bec2cbd18f3e'), ObjectId('68fa1f133747bec2cbd18f3f'), ObjectId('68fa1f133747bec2cbd18f40'), ObjectId('68fa1f133747bec2cbd18f41'), ObjectId('68fa1f133747bec2cbd18f42'), ObjectId('68fa1f133747bec2cbd18f43'), ObjectId('68fa1f133747bec2cbd18f44'), ObjectId('68fa1f133747bec2cbd18f45'), ObjectId('68fa1f133747bec2cbd18f46'), ObjectId('68fa1f133747bec2cbd18f47'), ObjectId('68fa1f133747bec2cbd18f48'), ObjectId('68fa1f133747bec2cbd18f49'), ObjectId('68fa1f133747bec2cbd18f4a'), ObjectId('68fa1f133747bec2cbd18f4b'), ObjectId('68fa1f133747bec2cbd18f4c'), ObjectId('68fa1f133747bec2cbd18f4d'), ObjectId('68fa1f133747bec2cbd18f4e'), ObjectId('68fa1f133747bec2cbd18f4f'), ObjectId('68fa1f133747bec2cbd18f50'), ObjectId('68fa1f133747bec2cbd18f51'), ObjectId('68fa1f133747bec2cbd18f52'), ObjectId('68fa1f133747bec2cbd18f53'), ObjectId('68fa1f133747bec2cbd18f54'), ObjectId('68fa1f133747bec2cbd18f55'), ObjectId('68fa1f133747bec2cbd18f56'), ObjectId('68fa1f133747bec2cbd18f57'), ObjectId('68fa1f133747bec2cbd18f58'), ObjectId('68fa1f133747bec2cbd18f59'), ObjectId('68fa1f133747bec2cbd18f5a'), ObjectId('68fa1f133747bec2cbd18f5b'), ObjectId('68fa1f133747bec2cbd18f5c'), ObjectId('68fa1f133747bec2cbd18f5d'), ObjectId('68fa1f133747bec2cbd18f5e'), ObjectId('68fa1f133747bec2cbd18f5f'), ObjectId('68fa1f133747bec2cbd18f60'), ObjectId('68fa1f133747bec2cbd18f61'), ObjectId('68fa1f133747bec2cbd18f62'), ObjectId('68fa1f133747bec2cbd18f63'), ObjectId('68fa1f133747bec2cbd18f64'), ObjectId('68fa1f133747bec2cbd18f65'), ObjectId('68fa1f133747bec2cbd18f66'), ObjectId('68fa1f133747bec2cbd18f67'), ObjectId('68fa1f133747bec2cbd18f68'), ObjectId('68fa1f133747bec2cbd18f69'), ObjectId('68fa1f133747bec2cbd18f6a')], acknowledged=True)"
      ]
     },
     "execution_count": 8,
     "metadata": {},
     "output_type": "execute_result"
    }
   ],
   "source": [
    "collection.insert_many(documentos)\n"
   ]
  },
  {
   "cell_type": "code",
   "execution_count": 9,
   "metadata": {},
   "outputs": [
    {
     "name": "stdout",
     "output_type": "stream",
     "text": [
      "_id: 68fa1f133747bec2cbd18dc5\n",
      "Título: Hambúrguer de fraldinha Maturatta com pimentão e chimichurri\n",
      "Introdução: Se você ama hambúrguer tanto quanto a gente, esse vídeo é pra você. Convidamos 3 chefs e verdadeiros apaixonados para criar e experimentar com nosso burguer do #churrasco. Receitas  de @danieljslee, @canalrango e @pauloyoller feitas exclusivamente para você também se apaixonar. Não tem segredo: é criatividade, muita suculência e grelha.Altura, suculência e equilíbrio pra levar seu hambúrguer direto pra grelha. O @pauloyoller criou sua receita com o burguer de Fraldinha.Hambúrguer Maturatta: tem tudo para ser seu favorito e ponto.\n",
      "Ingredientes: Para o Hambúrguer:\n",
      "- 1 Hambúrguer de Fraldinha Maturatta\n",
      "- 1 pimentão vermelho\n",
      "- 1 pão de burger\n",
      "- 2 fatias de bacon\n",
      "- Sal e pimenta do reino\n",
      "- 15g manteiga\n",
      "Para o Chimichurri:\n",
      "- 20g de salsinha seca\n",
      "- 15g de alho em lascas frito\n",
      "- 5g pimenta calabresa\n",
      "- 15g de orégano seco\n",
      "- 80ml de azeite de oliva\n",
      "- 50ml suco de limão siciliano\n",
      "- 5g raspas de limão siciliano\n",
      "- Sal e pimenta do reino\n",
      "Modo de preparo: - Misture o alho, salsinha, pimenta, orégano, azeite, suco de limão, raspas, sal e pimenta para fazer o chimichurri;\n",
      "- Toste o pimentão em fogo alto até queimar a pele, colocar em um saco de plástico fechado por alguns minutos e limpar a pele queimada, porcionar em um quadrado um pouco maior que o pão;\n",
      "- Toste as fatias de bacon até ficarem crocantes;\n",
      "- Passe manteiga no pão e tostar ele na grelha;\n",
      "- Coloque sal e pimenta do reino no burger e levar ele à grelha com fogo muito alto, virar e servir ao ponto para menos.\n",
      "- Para a montagem, sobre o pão, coloque o pimentão, o burguer, bacon, chimichurri e o topo do pão.\n",
      "Marca: Maturatta\n",
      "Corte: Fraldinha, Hambúrguer\n",
      "Tipo: Receita\n"
     ]
    }
   ],
   "source": [
    "for doc in collection.find().limit(1):\n",
    "    for f in doc:\n",
    "        print(f'{f}: {doc[f]}')"
   ]
  },
  {
   "cell_type": "code",
   "execution_count": 10,
   "metadata": {},
   "outputs": [
    {
     "name": "stdout",
     "output_type": "stream",
     "text": [
      "_id\n",
      "Título\n",
      "Introdução\n",
      "Ingredientes\n",
      "Modo de preparo\n",
      "Marca\n",
      "Corte\n",
      "Tipo\n"
     ]
    }
   ],
   "source": [
    "for doc in collection.find().limit(1):\n",
    "    for f in doc:\n",
    "        print(f'{f}')"
   ]
  }
 ],
 "metadata": {
  "kernelspec": {
   "display_name": "Python 3",
   "language": "python",
   "name": "python3"
  },
  "language_info": {
   "codemirror_mode": {
    "name": "ipython",
    "version": 3
   },
   "file_extension": ".py",
   "mimetype": "text/x-python",
   "name": "python",
   "nbconvert_exporter": "python",
   "pygments_lexer": "ipython3",
   "version": "3.12.2"
  }
 },
 "nbformat": 4,
 "nbformat_minor": 2
}
